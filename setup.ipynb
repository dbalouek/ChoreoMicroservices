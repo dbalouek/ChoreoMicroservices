{
 "cells": [
  {
   "cell_type": "code",
   "execution_count": 1,
   "metadata": {},
   "outputs": [],
   "source": [
    "NODE_TYPE=compute_haswell\n",
    "LEASE_NAME=\"$USER-tutorial-$(date +%b%d)\"\n",
    "KEYPAIR_NAME=\"$USER-jupyter-$(hostname)\"\n",
    "SERVER_NAME=\"$LEASE_NAME\"\n",
    "# FLOATING_IP will be set later; it is dynamically reserved"
   ]
  },
  {
   "cell_type": "markdown",
   "metadata": {},
   "source": [
    "## Step 1: Authenticate with your Chameleon project"
   ]
  },
  {
   "cell_type": "code",
   "execution_count": 2,
   "metadata": {},
   "outputs": [
    {
     "name": "stdout",
     "output_type": "stream",
     "text": [
      "Successfully authenticated to project CH-821000\n"
     ]
    }
   ],
   "source": [
    "if [[ \"${OS_PROJECT_NAME:+x}\" != \"x\" ]]; then\n",
    "  echo \"No project could automatically be detected. Overriding in Notebook.\"\n",
    "  # For example...\n",
    "  export OS_PROJECT_NAME='CH-000000'\n",
    "fi\n",
    "\n",
    "# Test that you can authenticate\n",
    "openstack token issue >/dev/null && echo \"Successfully authenticated to project $OS_PROJECT_NAME\""
   ]
  },
  {
   "cell_type": "markdown",
   "metadata": {},
   "source": [
    "## Step 2: Create a reservation\n",
    "\n",
    "We're reserving a bare metal node and a public IP address on Chameleon. While Chameleon has several nodes and IP addresses for use by researchers, the supply is still constrained relative to the amount of people using the system, so, unlike commercial clouds like AWS, it is important to reserve them ahead of time."
   ]
  },
  {
   "cell_type": "code",
   "execution_count": 3,
   "metadata": {},
   "outputs": [
    {
     "name": "stdout",
     "output_type": "stream",
     "text": [
      "Matches: ('min=1,max=1', 'resource_properties', '[\"=\", \"$node_type\", \"compute_haswell\"]')\n",
      "Matches: ('min=1', 'max', '1')\n",
      "Matches: (None, 'min', '1')\n",
      "Matches: ('resource_type=virtual:floatingip,network_id=44b38c44-2a42-4b6d-b129-6c8f1b2a1375', 'amount', '1')\n",
      "Matches: ('resource_type=virtual:floatingip', 'network_id', '44b38c44-2a42-4b6d-b129-6c8f1b2a1375')\n",
      "Matches: (None, 'resource_type', 'virtual:floatingip')\n",
      "Created a new lease:\n",
      "+--------------+----------------------------------------------------------------------------+\n",
      "| Field        | Value                                                                      |\n",
      "+--------------+----------------------------------------------------------------------------+\n",
      "| created_at   | 2019-08-13 18:29:53                                                        |\n",
      "| degraded     | False                                                                      |\n",
      "| end_date     | 2019-08-14T18:29:00.000000                                                 |\n",
      "| events       | {                                                                          |\n",
      "|              |     \"status\": \"UNDONE\",                                                    |\n",
      "|              |     \"lease_id\": \"5d6583cd-ba53-4c6a-a51e-c8b7c6920466\",                    |\n",
      "|              |     \"event_type\": \"end_lease\",                                             |\n",
      "|              |     \"created_at\": \"2019-08-13 18:30:00\",                                   |\n",
      "|              |     \"updated_at\": null,                                                    |\n",
      "|              |     \"time\": \"2019-08-14T18:29:00.000000\",                                  |\n",
      "|              |     \"id\": \"20052b64-d555-402d-b809-00d3e4134b2a\"                           |\n",
      "|              | }                                                                          |\n",
      "|              | {                                                                          |\n",
      "|              |     \"status\": \"UNDONE\",                                                    |\n",
      "|              |     \"lease_id\": \"5d6583cd-ba53-4c6a-a51e-c8b7c6920466\",                    |\n",
      "|              |     \"event_type\": \"start_lease\",                                           |\n",
      "|              |     \"created_at\": \"2019-08-13 18:30:00\",                                   |\n",
      "|              |     \"updated_at\": null,                                                    |\n",
      "|              |     \"time\": \"2019-08-13T18:29:00.000000\",                                  |\n",
      "|              |     \"id\": \"33820db8-7578-41ad-9da5-c8b10be5dc53\"                           |\n",
      "|              | }                                                                          |\n",
      "|              | {                                                                          |\n",
      "|              |     \"status\": \"UNDONE\",                                                    |\n",
      "|              |     \"lease_id\": \"5d6583cd-ba53-4c6a-a51e-c8b7c6920466\",                    |\n",
      "|              |     \"event_type\": \"before_end_lease\",                                      |\n",
      "|              |     \"created_at\": \"2019-08-13 18:30:00\",                                   |\n",
      "|              |     \"updated_at\": null,                                                    |\n",
      "|              |     \"time\": \"2019-08-13T18:29:00.000000\",                                  |\n",
      "|              |     \"id\": \"e52d8010-82fe-46c9-a7b6-833d3fe64c0f\"                           |\n",
      "|              | }                                                                          |\n",
      "| id           | 5d6583cd-ba53-4c6a-a51e-c8b7c6920466                                       |\n",
      "| name         | abhinav5-tutorial-Aug13                                                    |\n",
      "| project_id   | d7b3ec1181194bd4bcb0fa89829caf0f                                           |\n",
      "| reservations | {                                                                          |\n",
      "|              |     \"status\": \"pending\",                                                   |\n",
      "|              |     \"lease_id\": \"5d6583cd-ba53-4c6a-a51e-c8b7c6920466\",                    |\n",
      "|              |     \"resource_id\": \"3e26e7c8-b007-4c43-921c-58b003e97adb\",                 |\n",
      "|              |     \"network_id\": \"44b38c44-2a42-4b6d-b129-6c8f1b2a1375\",                  |\n",
      "|              |     \"created_at\": \"2019-08-13 18:30:00\",                                   |\n",
      "|              |     \"updated_at\": \"2019-08-13 18:30:00\",                                   |\n",
      "|              |     \"required_floatingips\": [],                                            |\n",
      "|              |     \"missing_resources\": false,                                            |\n",
      "|              |     \"amount\": 1,                                                           |\n",
      "|              |     \"id\": \"0f72e06d-de76-48d7-bb4c-f991dfb354a6\",                          |\n",
      "|              |     \"resource_type\": \"virtual:floatingip\",                                 |\n",
      "|              |     \"resources_changed\": false                                             |\n",
      "|              | }                                                                          |\n",
      "|              | {                                                                          |\n",
      "|              |     \"status\": \"pending\",                                                   |\n",
      "|              |     \"before_end\": \"default\",                                               |\n",
      "|              |     \"lease_id\": \"5d6583cd-ba53-4c6a-a51e-c8b7c6920466\",                    |\n",
      "|              |     \"resource_id\": \"f4794135-dbb8-4fb7-afb7-7c970521af79\",                 |\n",
      "|              |     \"max\": 1,                                                              |\n",
      "|              |     \"created_at\": \"2019-08-13 18:29:53\",                                   |\n",
      "|              |     \"min\": 1,                                                              |\n",
      "|              |     \"updated_at\": \"2019-08-13 18:29:59\",                                   |\n",
      "|              |     \"missing_resources\": false,                                            |\n",
      "|              |     \"hypervisor_properties\": \"\",                                           |\n",
      "|              |     \"on_start\": \"default\",                                                 |\n",
      "|              |     \"resource_properties\": \"[\\\"=\\\", \\\"$node_type\\\", \\\"compute_haswell\\\"]\", |\n",
      "|              |     \"id\": \"a78b7337-f0ef-45c6-b6fb-2f2687a3bf0c\",                          |\n",
      "|              |     \"resource_type\": \"physical:host\",                                      |\n",
      "|              |     \"resources_changed\": false                                             |\n",
      "|              | }                                                                          |\n",
      "| start_date   | 2019-08-13T18:29:00.000000                                                 |\n",
      "| status       | PENDING                                                                    |\n",
      "| trust_id     | 70280d98f17c46168eb79d1999c98bda                                           |\n",
      "| updated_at   | 2019-08-13 18:30:00                                                        |\n",
      "| user_id      | bbc7610b4b30405bb5a0c2265ff0ca3b                                           |\n",
      "+--------------+----------------------------------------------------------------------------+\n"
     ]
    }
   ],
   "source": [
    "PUBLIC_NETWORK_ID=$(openstack network show public -f value -c id)\n",
    "\n",
    "blazar lease-create \\\n",
    "  --physical-reservation min=1,max=1,resource_properties=\"[\\\"=\\\", \\\"\\$node_type\\\", \\\"$NODE_TYPE\\\"]\" \\\n",
    "  --reservation \"resource_type=virtual:floatingip,network_id=$PUBLIC_NETWORK_ID,amount=1\" \\\n",
    "  --start-date \"$(date +'%Y-%m-%d %H:%M')\" \\\n",
    "  --end-date \"$(date +'%Y-%m-%d %H:%M' -d'+1 day')\" \\\n",
    "  \"$LEASE_NAME\""
   ]
  },
  {
   "cell_type": "code",
   "execution_count": 4,
   "metadata": {},
   "outputs": [
    {
     "name": "stdout",
     "output_type": "stream",
     "text": [
      "Waiting up to 300 seconds for lease abhinav5-tutorial-Aug13 to start...\n",
      "Lease started successfully!\n"
     ]
    }
   ],
   "source": [
    "wait_lease \"$LEASE_NAME\""
   ]
  },
  {
   "cell_type": "markdown",
   "metadata": {},
   "source": [
    "## Step 3: Provision a new bare metal instance\n",
    "\n",
    "Now let's use that reserved node and launch a bare metal instance on it. We will start by launching existing images maintained by Chameleon.\n",
    "\n",
    "### Create an SSH keypair"
   ]
  },
  {
   "cell_type": "code",
   "execution_count": 6,
   "metadata": {},
   "outputs": [
    {
     "name": "stdout",
     "output_type": "stream",
     "text": [
      "+-------------+-------------------------------------------------+\n",
      "| Field       | Value                                           |\n",
      "+-------------+-------------------------------------------------+\n",
      "| fingerprint | 25:be:13:4e:80:bf:d6:a9:04:a6:17:fc:f6:fc:f3:a4 |\n",
      "| name        | abhinav5-jupyter-a471b14a894c                   |\n",
      "| user_id     | bbc7610b4b30405bb5a0c2265ff0ca3b                |\n",
      "+-------------+-------------------------------------------------+\n"
     ]
    }
   ],
   "source": [
    "openstack keypair create --public-key ~/work/.ssh/id_rsa.pub \"$KEYPAIR_NAME\""
   ]
  },
  {
   "cell_type": "markdown",
   "metadata": {},
   "source": [
    "### Launch an instance"
   ]
  },
  {
   "cell_type": "code",
   "execution_count": 7,
   "metadata": {},
   "outputs": [
    {
     "name": "stdout",
     "output_type": "stream",
     "text": [
      "+-------------------------------------+---------------------------------------------------+\n",
      "| Field                               | Value                                             |\n",
      "+-------------------------------------+---------------------------------------------------+\n",
      "| OS-DCF:diskConfig                   | MANUAL                                            |\n",
      "| OS-EXT-AZ:availability_zone         |                                                   |\n",
      "| OS-EXT-SRV-ATTR:host                | None                                              |\n",
      "| OS-EXT-SRV-ATTR:hypervisor_hostname | None                                              |\n",
      "| OS-EXT-SRV-ATTR:instance_name       |                                                   |\n",
      "| OS-EXT-STS:power_state              | NOSTATE                                           |\n",
      "| OS-EXT-STS:task_state               | scheduling                                        |\n",
      "| OS-EXT-STS:vm_state                 | building                                          |\n",
      "| OS-SRV-USG:launched_at              | None                                              |\n",
      "| OS-SRV-USG:terminated_at            | None                                              |\n",
      "| accessIPv4                          |                                                   |\n",
      "| accessIPv6                          |                                                   |\n",
      "| addresses                           |                                                   |\n",
      "| adminPass                           | 2rsaEungAoGL                                      |\n",
      "| config_drive                        |                                                   |\n",
      "| created                             | 2019-08-13T18:34:43Z                              |\n",
      "| flavor                              | baremetal (baremetal)                             |\n",
      "| hostId                              |                                                   |\n",
      "| id                                  | 790ff028-248d-4f5d-bb7e-b03ba8b2d231              |\n",
      "| image                               | CC-CentOS7 (13f61463-2c3e-423d-95dc-5fdb8bbeabe4) |\n",
      "| key_name                            | abhinav5-jupyter-a471b14a894c                     |\n",
      "| name                                | abhinav5-tutorial-Aug13                           |\n",
      "| progress                            | 0                                                 |\n",
      "| project_id                          | d7b3ec1181194bd4bcb0fa89829caf0f                  |\n",
      "| properties                          |                                                   |\n",
      "| security_groups                     | name='default'                                    |\n",
      "| status                              | BUILD                                             |\n",
      "| updated                             | 2019-08-13T18:34:43Z                              |\n",
      "| user_id                             | bbc7610b4b30405bb5a0c2265ff0ca3b                  |\n",
      "| volumes_attached                    |                                                   |\n",
      "+-------------------------------------+---------------------------------------------------+\n"
     ]
    }
   ],
   "source": [
    "SERVER_NAME=\"$LEASE_NAME\"\n",
    "\n",
    "openstack server create --key-name \"$KEYPAIR_NAME\" \\\n",
    "  $(lease_server_create_default_args \"$LEASE_NAME\") \\\n",
    "  $SERVER_NAME"
   ]
  },
  {
   "cell_type": "code",
   "execution_count": 8,
   "metadata": {},
   "outputs": [
    {
     "name": "stdout",
     "output_type": "stream",
     "text": [
      "Waiting up to 600 seconds for instance abhinav5-tutorial-Aug13 to start\n",
      "Instance created successfully!\n"
     ]
    }
   ],
   "source": [
    "wait_instance \"$SERVER_NAME\""
   ]
  },
  {
   "cell_type": "markdown",
   "metadata": {},
   "source": [
    "## Step 4: Assign a public IP address\n",
    "\n",
    "By default, your new instance is assigned only an internal private IP, and is not reachable from the public internet. In order to reach your node, you must attach a public IP (called a \"Floating IP\", because it can \"float\" between instances over time; they are shared resources.)\n",
    "\n",
    "We will attach the public IP that was reserved for us. `lease_list_floating_ips` helper function will print a list of public IPs reserved as part of your lease."
   ]
  },
  {
   "cell_type": "code",
   "execution_count": 9,
   "metadata": {},
   "outputs": [
    {
     "name": "stdout",
     "output_type": "stream",
     "text": [
      "Attached floating ip 192.5.87.223!\n"
     ]
    }
   ],
   "source": [
    "FLOATING_IP=$(lease_list_floating_ips \"$LEASE_NAME\" | head -n1)\n",
    "\n",
    "openstack server add floating ip \"$SERVER_NAME\" \"$FLOATING_IP\" \\\n",
    "  && echo \"Attached floating ip $FLOATING_IP!\""
   ]
  },
  {
   "cell_type": "code",
   "execution_count": 10,
   "metadata": {},
   "outputs": [
    {
     "name": "stdout",
     "output_type": "stream",
     "text": [
      "Waiting up to 300 seconds for SSH on 192.5.87.223...\n",
      "SSH is running!\n"
     ]
    }
   ],
   "source": [
    "wait_ssh \"$FLOATING_IP\""
   ]
  },
  {
   "cell_type": "markdown",
   "metadata": {},
   "source": [
    "## Step 5: Install the service\n",
    "\n",
    "### Start an SSH tunnel to the instance"
   ]
  },
  {
   "cell_type": "code",
   "execution_count": 13,
   "metadata": {},
   "outputs": [
    {
     "name": "stdout",
     "output_type": "stream",
     "text": [
      "cc@192.5.87.223: Permission denied (publickey,gssapi-keyex,gssapi-with-mic).\n"
     ]
    },
    {
     "ename": "",
     "evalue": "255",
     "execution_count": 13,
     "output_type": "error",
     "traceback": []
    }
   ],
   "source": [
    "# ssh -L 8080:localhost:8080 cc@\"$FLOATING_IP\" echo 'User $(whoami) connected on $(hostname)!'\n",
    "ssh cc@\"$FLOATING_IP\""
   ]
  },
  {
   "cell_type": "markdown",
   "metadata": {},
   "source": [
    "### Install"
   ]
  },
  {
   "cell_type": "code",
   "execution_count": null,
   "metadata": {},
   "outputs": [],
   "source": [
    "sudo yum install git\n",
    "git clone https://github.com/dbalouek/ChoreoMicroservices.git\n",
    "cd ChoreoMicroservices/ \n",
    "git checkout express\n",
    "chmod +x install.sh\n",
    "./install.sh"
   ]
  },
  {
   "cell_type": "markdown",
   "metadata": {},
   "source": [
    "## Step 5: Clean up (optional)\n",
    "\n",
    "If you don't need your server anymore, it is a nice thing to end your lease yourself, rather than waiting for it to expire. Ending a lease immediately returns resources to be reserved by others. You don't need to stop your servers; that will be done automatically when the lease is deleted."
   ]
  },
  {
   "cell_type": "code",
   "execution_count": 14,
   "metadata": {},
   "outputs": [],
   "source": [
    "# Commented out for safety.\n",
    "# blazar lease-delete \"$LEASE_NAME\""
   ]
  }
 ],
 "metadata": {
  "kernelspec": {
   "display_name": "Bash",
   "language": "bash",
   "name": "bash"
  },
  "language_info": {
   "codemirror_mode": "shell",
   "file_extension": ".sh",
   "mimetype": "text/x-sh",
   "name": "bash"
  }
 },
 "nbformat": 4,
 "nbformat_minor": 2
}
